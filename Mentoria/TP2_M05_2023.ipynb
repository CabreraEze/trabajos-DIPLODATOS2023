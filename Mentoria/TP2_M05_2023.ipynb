{
  "cells": [
    {
      "cell_type": "markdown",
      "source": [
        "## Carga y visualización del dataset"
      ],
      "metadata": {
        "id": "T7Wk3JlpRCAz"
      },
      "id": "T7Wk3JlpRCAz"
    },
    {
      "cell_type": "code",
      "execution_count": 33,
      "metadata": {
        "id": "HqjjIpUBZ0Hs",
        "colab": {
          "base_uri": "https://localhost:8080/"
        },
        "outputId": "ed56df00-d3c9-46e0-878b-0d20ef65138b"
      },
      "outputs": [
        {
          "output_type": "stream",
          "name": "stdout",
          "text": [
            "Drive already mounted at /content/drive; to attempt to forcibly remount, call drive.mount(\"/content/drive\", force_remount=True).\n"
          ]
        }
      ],
      "source": [
        "## Montamos el Drive\n",
        "\n",
        "from google.colab import drive\n",
        "drive.mount('/content/drive')"
      ],
      "id": "HqjjIpUBZ0Hs"
    },
    {
      "cell_type": "code",
      "source": [
        "## Cargamos las librerias que necesitaremos\n",
        "\n",
        "import matplotlib.pyplot as plt\n",
        "import pickle\n",
        "import seaborn as sb\n",
        "import pandas as pd\n",
        "import numpy as np"
      ],
      "metadata": {
        "id": "rqVswUspQL56"
      },
      "id": "rqVswUspQL56",
      "execution_count": 34,
      "outputs": []
    },
    {
      "cell_type": "code",
      "execution_count": 35,
      "metadata": {
        "id": "a4d8e4da"
      },
      "outputs": [],
      "source": [
        "## Cargamos el pkl (path = Mi unidad/DIPLODATOS2023/my_df.pkl)\n",
        "\n",
        "my_path='Diplodatos/mentoria/DIPLODATOS2023'\n",
        "with open('/content/drive/MyDrive/'+ my_path +'/my_df.pkl', 'rb') as f:\n",
        "    df = pickle.load(f)"
      ],
      "id": "a4d8e4da"
    },
    {
      "cell_type": "markdown",
      "source": [
        "## Combinacion de datasets"
      ],
      "metadata": {
        "id": "EhiNBzGefsje"
      },
      "id": "EhiNBzGefsje"
    },
    {
      "cell_type": "markdown",
      "source": [
        "En el TP1 vimos que algunas de las variables presentadas en el dataset original eran redundantes. Por tal motivo, se sugirió generar nuevas columnas que reemplacen la información de estas variables.\n",
        "1. Expliquen que criterio usaron para seleccionar las nuevas columnas y combinando las columnas restantes del dataset original con las nuevas columnas, presenten el nuevo dataset.\n",
        "2. Agregar una columna más al dataframe que incluya la integral del hielo en altura. Es decir, una columna que resulte de la suma de la cantidad de hielo en cada nivel."
      ],
      "metadata": {
        "id": "cXRXjxh8fxi9"
      },
      "id": "cXRXjxh8fxi9"
    },
    {
      "cell_type": "markdown",
      "source": [
        "\n",
        "\n",
        "1.   Se realizo un analisis sobre el comportamiento de la columna de hielo, y se vio que para el objetivo a estudiar no era necesario considerar todos los niveles de hielo dado a que estos podian ser reemplazados por un valor representativo de la columna del dominio.\n",
        "\n",
        "Mas aun, que no todos los niveles de hielo presentan cantidades relevantes de hielo, por lo que el data set puede ser recortado sin perdida de informacion relevante\n"
      ],
      "metadata": {
        "id": "NvUi0O2FOahe"
      },
      "id": "NvUi0O2FOahe"
    },
    {
      "cell_type": "code",
      "source": [
        "## Creo una copia para manipular\n",
        "df_copy = df.copy()\n",
        "\n",
        "# Tratamiento de las columnas de hielo para relevarlas solo con un valor representativo del conjunto\n",
        "Ice_columns = df_copy.columns[10:36]\n",
        "df_copy.loc[:, 'Ice_values'] = df_copy.loc[:, Ice_columns].values.tolist()\n",
        "df_copy.loc[:, 'Ice_q75'] = df_copy.Ice_values.apply(np.quantile, args=(0.75,))"
      ],
      "metadata": {
        "id": "4ML9Yw1-P0Lr"
      },
      "id": "4ML9Yw1-P0Lr",
      "execution_count": 47,
      "outputs": []
    },
    {
      "cell_type": "markdown",
      "source": [
        "2.  "
      ],
      "metadata": {
        "id": "LvwOG1VhvrYc"
      },
      "id": "LvwOG1VhvrYc"
    },
    {
      "cell_type": "code",
      "source": [
        "# Anexo de una nueva columna con el valor de la integral sobre todos los niveles de la columna del dominio\n",
        "df_copy.loc[:, 'Ice_integral'] = df_copy.Ice_values.apply(np.sum)\n",
        "# Dropeo las columnas inecesarias\n",
        "df_copy = df_copy.drop(columns = df_copy.columns[:40])\n",
        "df_copy = df_copy.drop(columns = 'Ice_values')\n",
        "df_copy[:2]"
      ],
      "metadata": {
        "colab": {
          "base_uri": "https://localhost:8080/",
          "height": 112
        },
        "id": "QBewnL-evnDO",
        "outputId": "bdd0f95e-6313-49ed-81c9-43f6b0eb9b1a"
      },
      "id": "QBewnL-evnDO",
      "execution_count": 48,
      "outputs": [
        {
          "output_type": "execute_result",
          "data": {
            "text/plain": [
              "          CTT      LPI       MDBZ  LIGHT       Ice_q75  Ice_integral\n",
              "0  219.479904  1.95278  35.446011    2.0  1.374226e-03  2.108538e-02\n",
              "1  302.756256  0.00000 -30.000000    0.0  8.517672e-12  3.672939e-09"
            ],
            "text/html": [
              "\n",
              "\n",
              "  <div id=\"df-98702b10-b192-4b1a-a874-8b968f82daea\">\n",
              "    <div class=\"colab-df-container\">\n",
              "      <div>\n",
              "<style scoped>\n",
              "    .dataframe tbody tr th:only-of-type {\n",
              "        vertical-align: middle;\n",
              "    }\n",
              "\n",
              "    .dataframe tbody tr th {\n",
              "        vertical-align: top;\n",
              "    }\n",
              "\n",
              "    .dataframe thead th {\n",
              "        text-align: right;\n",
              "    }\n",
              "</style>\n",
              "<table border=\"1\" class=\"dataframe\">\n",
              "  <thead>\n",
              "    <tr style=\"text-align: right;\">\n",
              "      <th></th>\n",
              "      <th>CTT</th>\n",
              "      <th>LPI</th>\n",
              "      <th>MDBZ</th>\n",
              "      <th>LIGHT</th>\n",
              "      <th>Ice_q75</th>\n",
              "      <th>Ice_integral</th>\n",
              "    </tr>\n",
              "  </thead>\n",
              "  <tbody>\n",
              "    <tr>\n",
              "      <th>0</th>\n",
              "      <td>219.479904</td>\n",
              "      <td>1.95278</td>\n",
              "      <td>35.446011</td>\n",
              "      <td>2.0</td>\n",
              "      <td>1.374226e-03</td>\n",
              "      <td>2.108538e-02</td>\n",
              "    </tr>\n",
              "    <tr>\n",
              "      <th>1</th>\n",
              "      <td>302.756256</td>\n",
              "      <td>0.00000</td>\n",
              "      <td>-30.000000</td>\n",
              "      <td>0.0</td>\n",
              "      <td>8.517672e-12</td>\n",
              "      <td>3.672939e-09</td>\n",
              "    </tr>\n",
              "  </tbody>\n",
              "</table>\n",
              "</div>\n",
              "      <button class=\"colab-df-convert\" onclick=\"convertToInteractive('df-98702b10-b192-4b1a-a874-8b968f82daea')\"\n",
              "              title=\"Convert this dataframe to an interactive table.\"\n",
              "              style=\"display:none;\">\n",
              "\n",
              "  <svg xmlns=\"http://www.w3.org/2000/svg\" height=\"24px\"viewBox=\"0 0 24 24\"\n",
              "       width=\"24px\">\n",
              "    <path d=\"M0 0h24v24H0V0z\" fill=\"none\"/>\n",
              "    <path d=\"M18.56 5.44l.94 2.06.94-2.06 2.06-.94-2.06-.94-.94-2.06-.94 2.06-2.06.94zm-11 1L8.5 8.5l.94-2.06 2.06-.94-2.06-.94L8.5 2.5l-.94 2.06-2.06.94zm10 10l.94 2.06.94-2.06 2.06-.94-2.06-.94-.94-2.06-.94 2.06-2.06.94z\"/><path d=\"M17.41 7.96l-1.37-1.37c-.4-.4-.92-.59-1.43-.59-.52 0-1.04.2-1.43.59L10.3 9.45l-7.72 7.72c-.78.78-.78 2.05 0 2.83L4 21.41c.39.39.9.59 1.41.59.51 0 1.02-.2 1.41-.59l7.78-7.78 2.81-2.81c.8-.78.8-2.07 0-2.86zM5.41 20L4 18.59l7.72-7.72 1.47 1.35L5.41 20z\"/>\n",
              "  </svg>\n",
              "      </button>\n",
              "\n",
              "\n",
              "\n",
              "    <div id=\"df-04714d27-015a-4a42-a7b3-4d1574b79986\">\n",
              "      <button class=\"colab-df-quickchart\" onclick=\"quickchart('df-04714d27-015a-4a42-a7b3-4d1574b79986')\"\n",
              "              title=\"Suggest charts.\"\n",
              "              style=\"display:none;\">\n",
              "\n",
              "<svg xmlns=\"http://www.w3.org/2000/svg\" height=\"24px\"viewBox=\"0 0 24 24\"\n",
              "     width=\"24px\">\n",
              "    <g>\n",
              "        <path d=\"M19 3H5c-1.1 0-2 .9-2 2v14c0 1.1.9 2 2 2h14c1.1 0 2-.9 2-2V5c0-1.1-.9-2-2-2zM9 17H7v-7h2v7zm4 0h-2V7h2v10zm4 0h-2v-4h2v4z\"/>\n",
              "    </g>\n",
              "</svg>\n",
              "      </button>\n",
              "    </div>\n",
              "\n",
              "<style>\n",
              "  .colab-df-quickchart {\n",
              "    background-color: #E8F0FE;\n",
              "    border: none;\n",
              "    border-radius: 50%;\n",
              "    cursor: pointer;\n",
              "    display: none;\n",
              "    fill: #1967D2;\n",
              "    height: 32px;\n",
              "    padding: 0 0 0 0;\n",
              "    width: 32px;\n",
              "  }\n",
              "\n",
              "  .colab-df-quickchart:hover {\n",
              "    background-color: #E2EBFA;\n",
              "    box-shadow: 0px 1px 2px rgba(60, 64, 67, 0.3), 0px 1px 3px 1px rgba(60, 64, 67, 0.15);\n",
              "    fill: #174EA6;\n",
              "  }\n",
              "\n",
              "  [theme=dark] .colab-df-quickchart {\n",
              "    background-color: #3B4455;\n",
              "    fill: #D2E3FC;\n",
              "  }\n",
              "\n",
              "  [theme=dark] .colab-df-quickchart:hover {\n",
              "    background-color: #434B5C;\n",
              "    box-shadow: 0px 1px 3px 1px rgba(0, 0, 0, 0.15);\n",
              "    filter: drop-shadow(0px 1px 2px rgba(0, 0, 0, 0.3));\n",
              "    fill: #FFFFFF;\n",
              "  }\n",
              "</style>\n",
              "\n",
              "    <script>\n",
              "      async function quickchart(key) {\n",
              "        const containerElement = document.querySelector('#' + key);\n",
              "        const charts = await google.colab.kernel.invokeFunction(\n",
              "            'suggestCharts', [key], {});\n",
              "      }\n",
              "    </script>\n",
              "\n",
              "      <script>\n",
              "\n",
              "function displayQuickchartButton(domScope) {\n",
              "  let quickchartButtonEl =\n",
              "    domScope.querySelector('#df-04714d27-015a-4a42-a7b3-4d1574b79986 button.colab-df-quickchart');\n",
              "  quickchartButtonEl.style.display =\n",
              "    google.colab.kernel.accessAllowed ? 'block' : 'none';\n",
              "}\n",
              "\n",
              "        displayQuickchartButton(document);\n",
              "      </script>\n",
              "      <style>\n",
              "    .colab-df-container {\n",
              "      display:flex;\n",
              "      flex-wrap:wrap;\n",
              "      gap: 12px;\n",
              "    }\n",
              "\n",
              "    .colab-df-convert {\n",
              "      background-color: #E8F0FE;\n",
              "      border: none;\n",
              "      border-radius: 50%;\n",
              "      cursor: pointer;\n",
              "      display: none;\n",
              "      fill: #1967D2;\n",
              "      height: 32px;\n",
              "      padding: 0 0 0 0;\n",
              "      width: 32px;\n",
              "    }\n",
              "\n",
              "    .colab-df-convert:hover {\n",
              "      background-color: #E2EBFA;\n",
              "      box-shadow: 0px 1px 2px rgba(60, 64, 67, 0.3), 0px 1px 3px 1px rgba(60, 64, 67, 0.15);\n",
              "      fill: #174EA6;\n",
              "    }\n",
              "\n",
              "    [theme=dark] .colab-df-convert {\n",
              "      background-color: #3B4455;\n",
              "      fill: #D2E3FC;\n",
              "    }\n",
              "\n",
              "    [theme=dark] .colab-df-convert:hover {\n",
              "      background-color: #434B5C;\n",
              "      box-shadow: 0px 1px 3px 1px rgba(0, 0, 0, 0.15);\n",
              "      filter: drop-shadow(0px 1px 2px rgba(0, 0, 0, 0.3));\n",
              "      fill: #FFFFFF;\n",
              "    }\n",
              "  </style>\n",
              "\n",
              "      <script>\n",
              "        const buttonEl =\n",
              "          document.querySelector('#df-98702b10-b192-4b1a-a874-8b968f82daea button.colab-df-convert');\n",
              "        buttonEl.style.display =\n",
              "          google.colab.kernel.accessAllowed ? 'block' : 'none';\n",
              "\n",
              "        async function convertToInteractive(key) {\n",
              "          const element = document.querySelector('#df-98702b10-b192-4b1a-a874-8b968f82daea');\n",
              "          const dataTable =\n",
              "            await google.colab.kernel.invokeFunction('convertToInteractive',\n",
              "                                                     [key], {});\n",
              "          if (!dataTable) return;\n",
              "\n",
              "          const docLinkHtml = 'Like what you see? Visit the ' +\n",
              "            '<a target=\"_blank\" href=https://colab.research.google.com/notebooks/data_table.ipynb>data table notebook</a>'\n",
              "            + ' to learn more about interactive tables.';\n",
              "          element.innerHTML = '';\n",
              "          dataTable['output_type'] = 'display_data';\n",
              "          await google.colab.output.renderOutput(dataTable, element);\n",
              "          const docLink = document.createElement('div');\n",
              "          docLink.innerHTML = docLinkHtml;\n",
              "          element.appendChild(docLink);\n",
              "        }\n",
              "      </script>\n",
              "    </div>\n",
              "  </div>\n"
            ]
          },
          "metadata": {},
          "execution_count": 48
        }
      ]
    },
    {
      "cell_type": "markdown",
      "source": [
        "## PCA"
      ],
      "metadata": {
        "id": "QyPbQr2lHm-C"
      },
      "id": "QyPbQr2lHm-C"
    },
    {
      "cell_type": "markdown",
      "source": [
        "3. Partiendo del nuevo dataset, que no debería tener más de 10 columnas, hagan un análisis de componentes principales (PCA). ¿Es necesario estandarizar o escalar los datos?\n",
        "4. Haciendo uso de \"components_\" pueden ver que coeficientes se asocian a cada componente principal para cada variable. ¿Pueden explicar los resultados aquí obtenidos?\n",
        "5. Grafiquen la varianza explicada por cada una de las componentes obtenidas.\n",
        "6. Dados los resultados obtenidos, ¿cuál creen ustedes que es el número óptimo de componentes principales que podrían sumar al dataset?"
      ],
      "metadata": {
        "id": "8RZ9O5cmNxyd"
      },
      "id": "8RZ9O5cmNxyd"
    },
    {
      "cell_type": "markdown",
      "source": [
        "\n",
        "\n",
        "3.   Para asegurarnos de que ninguna columna tenga mas peso que otra, inicialmente vamos a normalizar los valores del dataset para que todas las columnas esten en las mismas unidades\n",
        "\n"
      ],
      "metadata": {
        "id": "JvvjpRToh-dI"
      },
      "id": "JvvjpRToh-dI"
    },
    {
      "cell_type": "code",
      "source": [
        "# Primero normalizo los valores en el data frame\n",
        "df_copy = (df_copy - df_copy.mean())/df_copy.std()"
      ],
      "metadata": {
        "id": "6UNN6i1VTc2Y"
      },
      "id": "6UNN6i1VTc2Y",
      "execution_count": 37,
      "outputs": []
    },
    {
      "cell_type": "markdown",
      "source": [
        "\n",
        "\n",
        "4.    El atributo `components_` nos devuelve una lista de *NxM* dimensiones donde *N* es la nueva dimension sobre la que se mapea el conjunto de datos y *M* son la cantidad de columnas del dataset. Una forma de interpretarlo es considerar que `components_` nos devuelve *M* vectores de dimension *N* donde cada vector esta ordenado segun el nivel de varianza de los datos originales.\n",
        "\n"
      ],
      "metadata": {
        "id": "knsvbHgHjKSJ"
      },
      "id": "knsvbHgHjKSJ"
    },
    {
      "cell_type": "code",
      "source": [
        "from sklearn.decomposition import PCA\n",
        "\n",
        "n_components = 6\n",
        "\n",
        "pca = PCA(n_components=n_components)\n",
        "pca.fit(df_copy)\n",
        "\n",
        "pca.components_"
      ],
      "metadata": {
        "colab": {
          "base_uri": "https://localhost:8080/"
        },
        "id": "QYiydqkRD01K",
        "outputId": "0c451eca-5712-4669-b3c7-0e26296d141b"
      },
      "id": "QYiydqkRD01K",
      "execution_count": 38,
      "outputs": [
        {
          "output_type": "execute_result",
          "data": {
            "text/plain": [
              "array([[-0.33314044,  0.34126558,  0.46102668,  0.26113017,  0.4965175 ,\n",
              "         0.49526867],\n",
              "       [ 0.68429494,  0.39662232, -0.34676733,  0.46881566,  0.13038038,\n",
              "         0.13189551],\n",
              "       [-0.19146864, -0.51339705,  0.04545648,  0.81667454, -0.13029613,\n",
              "        -0.11731391],\n",
              "       [-0.41960396,  0.67725346, -0.06898765,  0.21084406, -0.3892991 ,\n",
              "        -0.40557609],\n",
              "       [ 0.45609267,  0.06183035,  0.81263733,  0.02413324, -0.25063531,\n",
              "        -0.25372541],\n",
              "       [-0.00310289,  0.01252072,  0.00134311, -0.00528973, -0.71071964,\n",
              "         0.70333592]])"
            ]
          },
          "metadata": {},
          "execution_count": 38
        }
      ]
    },
    {
      "cell_type": "markdown",
      "source": [
        "\n",
        "\n",
        "5.  \n",
        "\n"
      ],
      "metadata": {
        "id": "-lJXEXEKpkxu"
      },
      "id": "-lJXEXEKpkxu"
    },
    {
      "cell_type": "code",
      "source": [
        "# Creo una lista para los nombres de las componentes, asi se visualizan de mejor manera en el plot\n",
        "\n",
        "def pca_columns(n:int) -> str:\n",
        "  '''\n",
        "  Funcion auxiliar para crear una lista que contenga\n",
        "  los nombres de cada componente de una PCA\n",
        "  '''\n",
        "  columns = []\n",
        "  for idx in range(1,n+1):\n",
        "    columns.append('pca' + str(idx))\n",
        "  return columns\n",
        "\n",
        "columns = pca_columns(n_components)\n",
        "\n",
        "plt.plot(pca.explained_variance_)\n",
        "plt.xticks(range(n_components), labels=columns)\n",
        "plt.ylabel('explained_variance_')\n",
        "plt.show()"
      ],
      "metadata": {
        "colab": {
          "base_uri": "https://localhost:8080/",
          "height": 430
        },
        "id": "1KZhGnGfplQl",
        "outputId": "a7c2dcb5-beeb-443e-9e74-b18cab21adb2"
      },
      "id": "1KZhGnGfplQl",
      "execution_count": 50,
      "outputs": [
        {
          "output_type": "display_data",
          "data": {
            "text/plain": [
              "<Figure size 640x480 with 1 Axes>"
            ],
            "image/png": "[encoded data removed]"
          },
          "metadata": {}
        }
      ]
    },
    {
      "cell_type": "markdown",
      "source": [
        "6.    Analizando los resultados del inciso 5, se puede ver que la dimension optima sobre la cual proyectar el conjunto de datos es de 3 componentes, se podria argumentar una cuarta pero mas componentes no realiza una aportacion significativa de informacion. Por lo que añadir al data set 3 columnas con las componentes principales se consideraria la aportacion optima."
      ],
      "metadata": {
        "id": "HTH74rRuv0Rq"
      },
      "id": "HTH74rRuv0Rq"
    }
  ],
  "metadata": {
    "accelerator": "GPU",
    "colab": {
      "provenance": []
    },
    "gpuClass": "standard",
    "kernelspec": {
      "display_name": "base",
      "language": "python",
      "name": "python3"
    },
    "language_info": {
      "codemirror_mode": {
        "name": "ipython",
        "version": 3
      },
      "file_extension": ".py",
      "mimetype": "text/x-python",
      "name": "python",
      "nbconvert_exporter": "python",
      "pygments_lexer": "ipython3",
      "version": "3.9.13"
    },
    "vscode": {
      "interpreter": {
        "hash": "f49206fcf84a9145e7e21228cbafa911d1ac18292303b01e865d8267a9c448f7"
      }
    }
  },
  "nbformat": 4,
  "nbformat_minor": 5
}