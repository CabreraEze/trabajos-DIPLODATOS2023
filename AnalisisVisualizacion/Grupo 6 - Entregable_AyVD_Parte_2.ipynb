{
  "nbformat": 4,
  "nbformat_minor": 0,
  "metadata": {
    "colab": {
      "provenance": []
    },
    "kernelspec": {
      "name": "python3",
      "display_name": "Python 3"
    }
  },
  "cells": [
    {
      "cell_type": "markdown",
      "metadata": {
        "id": "LYvAOR2VzHmW"
      },
      "source": [
        "\n",
        "**Diplomatura en Ciencia de Datos, Aprendizaje Automático y sus Aplicaciones**\n",
        "\n",
        "**Edición 2023**\n",
        "\n",
        "---\n",
        "\n",
        "# Trabajo práctico entregable - Parte 2"
      ]
    },
    {
      "cell_type": "code",
      "metadata": {
        "id": "Xwdfo7z20TUK"
      },
      "source": [
        "import io\n",
        "import matplotlib\n",
        "import matplotlib.pyplot as plt\n",
        "import numpy\n",
        "import pandas as pd\n",
        "import seaborn\n",
        "\n",
        "seaborn.set_context('talk')"
      ],
      "execution_count": 2,
      "outputs": []
    },
    {
      "cell_type": "markdown",
      "metadata": {
        "id": "XY2Hl-Ma07Nn"
      },
      "source": [
        "## Lectura del dataset\n",
        "\n",
        "En la notebook 00 se explican los detalles de la siguiente sección."
      ]
    },
    {
      "cell_type": "code",
      "metadata": {
        "id": "Vviv_sqXdR5W"
      },
      "source": [
        "url = 'https://raw.githubusercontent.com/DiploDatos/AnalisisyVisualizacion/master/sysarmy_survey_2022_processed.csv'\n",
        "df = pd.read_csv(url)"
      ],
      "execution_count": 3,
      "outputs": []
    },
    {
      "cell_type": "code",
      "metadata": {
        "id": "gckNHXXLktJ4",
        "colab": {
          "base_uri": "https://localhost:8080/",
          "height": 341
        },
        "outputId": "be47e62c-a7d1-4b9d-93f9-363ff0e470f3"
      },
      "source": [
        "df[:3]"
      ],
      "execution_count": 4,
      "outputs": [
        {
          "output_type": "execute_result",
          "data": {
            "text/plain": [
              "  work_country work_province work_dedication             work_contract_type  \\\n",
              "0    Argentina     Catamarca       Full-Time      Staff (planta permanente)   \n",
              "1    Argentina         Chaco       Full-Time  Remoto (empresa de otro país)   \n",
              "2    Argentina         Chaco       Full-Time      Staff (planta permanente)   \n",
              "\n",
              "   salary_monthly_BRUTO  salary_monthly_NETO  numero  \\\n",
              "0              300000.0             245000.0    True   \n",
              "1              900000.0             850000.0    True   \n",
              "2              120000.0             115000.0    True   \n",
              "\n",
              "                      salary_in_usd salary_last_dollar_value  \\\n",
              "0                               NaN                      NaN   \n",
              "1  Cobro todo el salario en dólares                      300   \n",
              "2                               NaN                      NaN   \n",
              "\n",
              "  salary_pay_cripto  ... profile_studies_level_state  \\\n",
              "0               NaN  ...                    Completo   \n",
              "1               NaN  ...                         NaN   \n",
              "2               NaN  ...                         NaN   \n",
              "\n",
              "                                  profile_career           profile_university  \\\n",
              "0  Licenciatura en redes y comunicación de datos  UP - Universidad de Palermo   \n",
              "1                                            NaN                          NaN   \n",
              "2                                            NaN                          NaN   \n",
              "\n",
              "  profile_boot_camp profile_boot_camp_carrer work_on_call_duty  \\\n",
              "0               NaN                      NaN               NaN   \n",
              "1               NaN                      NaN               NaN   \n",
              "2               NaN                      NaN               NaN   \n",
              "\n",
              "   salary_on_call_duty_charge work_on_call_duty_charge_type  profile_age  \\\n",
              "0                         NaN                           NaN           35   \n",
              "1                         NaN                           NaN           31   \n",
              "2                         NaN                           NaN           27   \n",
              "\n",
              "  profile_gender  \n",
              "0      Varón Cis  \n",
              "1      Varón Cis  \n",
              "2      Varón Cis  \n",
              "\n",
              "[3 rows x 44 columns]"
            ],
            "text/html": [
              "\n",
              "  <div id=\"df-c71401ea-2730-48f6-bd5f-9ef7e992f89f\">\n",
              "    <div class=\"colab-df-container\">\n",
              "      <div>\n",
              "<style scoped>\n",
              "    .dataframe tbody tr th:only-of-type {\n",
              "        vertical-align: middle;\n",
              "    }\n",
              "\n",
              "    .dataframe tbody tr th {\n",
              "        vertical-align: top;\n",
              "    }\n",
              "\n",
              "    .dataframe thead th {\n",
              "        text-align: right;\n",
              "    }\n",
              "</style>\n",
              "<table border=\"1\" class=\"dataframe\">\n",
              "  <thead>\n",
              "    <tr style=\"text-align: right;\">\n",
              "      <th></th>\n",
              "      <th>work_country</th>\n",
              "      <th>work_province</th>\n",
              "      <th>work_dedication</th>\n",
              "      <th>work_contract_type</th>\n",
              "      <th>salary_monthly_BRUTO</th>\n",
              "      <th>salary_monthly_NETO</th>\n",
              "      <th>numero</th>\n",
              "      <th>salary_in_usd</th>\n",
              "      <th>salary_last_dollar_value</th>\n",
              "      <th>salary_pay_cripto</th>\n",
              "      <th>...</th>\n",
              "      <th>profile_studies_level_state</th>\n",
              "      <th>profile_career</th>\n",
              "      <th>profile_university</th>\n",
              "      <th>profile_boot_camp</th>\n",
              "      <th>profile_boot_camp_carrer</th>\n",
              "      <th>work_on_call_duty</th>\n",
              "      <th>salary_on_call_duty_charge</th>\n",
              "      <th>work_on_call_duty_charge_type</th>\n",
              "      <th>profile_age</th>\n",
              "      <th>profile_gender</th>\n",
              "    </tr>\n",
              "  </thead>\n",
              "  <tbody>\n",
              "    <tr>\n",
              "      <th>0</th>\n",
              "      <td>Argentina</td>\n",
              "      <td>Catamarca</td>\n",
              "      <td>Full-Time</td>\n",
              "      <td>Staff (planta permanente)</td>\n",
              "      <td>300000.0</td>\n",
              "      <td>245000.0</td>\n",
              "      <td>True</td>\n",
              "      <td>NaN</td>\n",
              "      <td>NaN</td>\n",
              "      <td>NaN</td>\n",
              "      <td>...</td>\n",
              "      <td>Completo</td>\n",
              "      <td>Licenciatura en redes y comunicación de datos</td>\n",
              "      <td>UP - Universidad de Palermo</td>\n",
              "      <td>NaN</td>\n",
              "      <td>NaN</td>\n",
              "      <td>NaN</td>\n",
              "      <td>NaN</td>\n",
              "      <td>NaN</td>\n",
              "      <td>35</td>\n",
              "      <td>Varón Cis</td>\n",
              "    </tr>\n",
              "    <tr>\n",
              "      <th>1</th>\n",
              "      <td>Argentina</td>\n",
              "      <td>Chaco</td>\n",
              "      <td>Full-Time</td>\n",
              "      <td>Remoto (empresa de otro país)</td>\n",
              "      <td>900000.0</td>\n",
              "      <td>850000.0</td>\n",
              "      <td>True</td>\n",
              "      <td>Cobro todo el salario en dólares</td>\n",
              "      <td>300</td>\n",
              "      <td>NaN</td>\n",
              "      <td>...</td>\n",
              "      <td>NaN</td>\n",
              "      <td>NaN</td>\n",
              "      <td>NaN</td>\n",
              "      <td>NaN</td>\n",
              "      <td>NaN</td>\n",
              "      <td>NaN</td>\n",
              "      <td>NaN</td>\n",
              "      <td>NaN</td>\n",
              "      <td>31</td>\n",
              "      <td>Varón Cis</td>\n",
              "    </tr>\n",
              "    <tr>\n",
              "      <th>2</th>\n",
              "      <td>Argentina</td>\n",
              "      <td>Chaco</td>\n",
              "      <td>Full-Time</td>\n",
              "      <td>Staff (planta permanente)</td>\n",
              "      <td>120000.0</td>\n",
              "      <td>115000.0</td>\n",
              "      <td>True</td>\n",
              "      <td>NaN</td>\n",
              "      <td>NaN</td>\n",
              "      <td>NaN</td>\n",
              "      <td>...</td>\n",
              "      <td>NaN</td>\n",
              "      <td>NaN</td>\n",
              "      <td>NaN</td>\n",
              "      <td>NaN</td>\n",
              "      <td>NaN</td>\n",
              "      <td>NaN</td>\n",
              "      <td>NaN</td>\n",
              "      <td>NaN</td>\n",
              "      <td>27</td>\n",
              "      <td>Varón Cis</td>\n",
              "    </tr>\n",
              "  </tbody>\n",
              "</table>\n",
              "<p>3 rows × 44 columns</p>\n",
              "</div>\n",
              "      <button class=\"colab-df-convert\" onclick=\"convertToInteractive('df-c71401ea-2730-48f6-bd5f-9ef7e992f89f')\"\n",
              "              title=\"Convert this dataframe to an interactive table.\"\n",
              "              style=\"display:none;\">\n",
              "        \n",
              "  <svg xmlns=\"http://www.w3.org/2000/svg\" height=\"24px\"viewBox=\"0 0 24 24\"\n",
              "       width=\"24px\">\n",
              "    <path d=\"M0 0h24v24H0V0z\" fill=\"none\"/>\n",
              "    <path d=\"M18.56 5.44l.94 2.06.94-2.06 2.06-.94-2.06-.94-.94-2.06-.94 2.06-2.06.94zm-11 1L8.5 8.5l.94-2.06 2.06-.94-2.06-.94L8.5 2.5l-.94 2.06-2.06.94zm10 10l.94 2.06.94-2.06 2.06-.94-2.06-.94-.94-2.06-.94 2.06-2.06.94z\"/><path d=\"M17.41 7.96l-1.37-1.37c-.4-.4-.92-.59-1.43-.59-.52 0-1.04.2-1.43.59L10.3 9.45l-7.72 7.72c-.78.78-.78 2.05 0 2.83L4 21.41c.39.39.9.59 1.41.59.51 0 1.02-.2 1.41-.59l7.78-7.78 2.81-2.81c.8-.78.8-2.07 0-2.86zM5.41 20L4 18.59l7.72-7.72 1.47 1.35L5.41 20z\"/>\n",
              "  </svg>\n",
              "      </button>\n",
              "      \n",
              "  <style>\n",
              "    .colab-df-container {\n",
              "      display:flex;\n",
              "      flex-wrap:wrap;\n",
              "      gap: 12px;\n",
              "    }\n",
              "\n",
              "    .colab-df-convert {\n",
              "      background-color: #E8F0FE;\n",
              "      border: none;\n",
              "      border-radius: 50%;\n",
              "      cursor: pointer;\n",
              "      display: none;\n",
              "      fill: #1967D2;\n",
              "      height: 32px;\n",
              "      padding: 0 0 0 0;\n",
              "      width: 32px;\n",
              "    }\n",
              "\n",
              "    .colab-df-convert:hover {\n",
              "      background-color: #E2EBFA;\n",
              "      box-shadow: 0px 1px 2px rgba(60, 64, 67, 0.3), 0px 1px 3px 1px rgba(60, 64, 67, 0.15);\n",
              "      fill: #174EA6;\n",
              "    }\n",
              "\n",
              "    [theme=dark] .colab-df-convert {\n",
              "      background-color: #3B4455;\n",
              "      fill: #D2E3FC;\n",
              "    }\n",
              "\n",
              "    [theme=dark] .colab-df-convert:hover {\n",
              "      background-color: #434B5C;\n",
              "      box-shadow: 0px 1px 3px 1px rgba(0, 0, 0, 0.15);\n",
              "      filter: drop-shadow(0px 1px 2px rgba(0, 0, 0, 0.3));\n",
              "      fill: #FFFFFF;\n",
              "    }\n",
              "  </style>\n",
              "\n",
              "      <script>\n",
              "        const buttonEl =\n",
              "          document.querySelector('#df-c71401ea-2730-48f6-bd5f-9ef7e992f89f button.colab-df-convert');\n",
              "        buttonEl.style.display =\n",
              "          google.colab.kernel.accessAllowed ? 'block' : 'none';\n",
              "\n",
              "        async function convertToInteractive(key) {\n",
              "          const element = document.querySelector('#df-c71401ea-2730-48f6-bd5f-9ef7e992f89f');\n",
              "          const dataTable =\n",
              "            await google.colab.kernel.invokeFunction('convertToInteractive',\n",
              "                                                     [key], {});\n",
              "          if (!dataTable) return;\n",
              "\n",
              "          const docLinkHtml = 'Like what you see? Visit the ' +\n",
              "            '<a target=\"_blank\" href=https://colab.research.google.com/notebooks/data_table.ipynb>data table notebook</a>'\n",
              "            + ' to learn more about interactive tables.';\n",
              "          element.innerHTML = '';\n",
              "          dataTable['output_type'] = 'display_data';\n",
              "          await google.colab.output.renderOutput(dataTable, element);\n",
              "          const docLink = document.createElement('div');\n",
              "          docLink.innerHTML = docLinkHtml;\n",
              "          element.appendChild(docLink);\n",
              "        }\n",
              "      </script>\n",
              "    </div>\n",
              "  </div>\n",
              "  "
            ]
          },
          "metadata": {},
          "execution_count": 4
        }
      ]
    },
    {
      "cell_type": "code",
      "source": [
        "df.profile_gender.unique()"
      ],
      "metadata": {
        "colab": {
          "base_uri": "https://localhost:8080/"
        },
        "id": "BxFBTUsttpX4",
        "outputId": "049ac797-566a-4dd5-e0d6-62c01bcf125d"
      },
      "execution_count": 5,
      "outputs": [
        {
          "output_type": "execute_result",
          "data": {
            "text/plain": [
              "array(['Varón Cis', 'Varón cis', 'Mujer Cis', 'Mujer', 'Varón Trans',\n",
              "       'Queer', 'No binarie', 'Mujer cis', 'Mujer Trans', 'mujer', 'Gay',\n",
              "       'Fluido', 'Bigénero', 'Femenino'], dtype=object)"
            ]
          },
          "metadata": {},
          "execution_count": 5
        }
      ]
    },
    {
      "cell_type": "code",
      "source": [
        "df.loc[:,'profile_g'] = df.profile_gender.replace({'Varón Cis': 'Varón cis','Mujer': 'Mujer cis','Mujer Cis': 'Mujer cis','Femenino': 'Mujer cis','mujer': 'Mujer cis','Mujer':'Mujer cis','Queer':'Diversidades','Varón Trans':'Diversidades','No binarie':'Diversidades','Mujer Trans':'Diversidades','Fluido':'Diversidades','Bigénero':'Diversidades','Gay':'Diversidades'}).fillna(False)"
      ],
      "metadata": {
        "id": "pJjMneUJtr1H"
      },
      "execution_count": 6,
      "outputs": []
    },
    {
      "cell_type": "code",
      "source": [
        "df.profile_g.unique()"
      ],
      "metadata": {
        "colab": {
          "base_uri": "https://localhost:8080/"
        },
        "id": "2QhWCZwxtu45",
        "outputId": "60ed2cef-b3b9-4740-9bc0-9568bd7d6c28"
      },
      "execution_count": 7,
      "outputs": [
        {
          "output_type": "execute_result",
          "data": {
            "text/plain": [
              "array(['Varón cis', 'Mujer cis', 'Diversidades'], dtype=object)"
            ]
          },
          "metadata": {},
          "execution_count": 7
        }
      ]
    },
    {
      "cell_type": "code",
      "metadata": {
        "id": "2lzmzK1NuPNT",
        "colab": {
          "base_uri": "https://localhost:8080/",
          "height": 206
        },
        "outputId": "985ec07a-74c2-4e44-e29d-2e0d59d2ab61"
      },
      "source": [
        "df[['profile_g', 'salary_monthly_NETO']].groupby('profile_g').describe()"
      ],
      "execution_count": 8,
      "outputs": [
        {
          "output_type": "execute_result",
          "data": {
            "text/plain": [
              "             salary_monthly_NETO                                               \\\n",
              "                           count           mean            std  min       25%   \n",
              "profile_g                                                                       \n",
              "Diversidades                98.0  261873.543041  356719.368150  0.0   90500.0   \n",
              "Mujer cis                  929.0  188903.430667  184912.713803  0.0   91000.0   \n",
              "Varón cis                 4331.0  296252.343889  433193.328154  0.0  125000.0   \n",
              "\n",
              "                                              \n",
              "                   50%       75%         max  \n",
              "profile_g                                     \n",
              "Diversidades  174448.5  262250.0   1950000.0  \n",
              "Mujer cis     160000.0  237003.0   1878500.0  \n",
              "Varón cis     212146.0  307988.0  15000000.0  "
            ],
            "text/html": [
              "\n",
              "  <div id=\"df-427dfd45-8b23-4fce-93d9-ce42aac2a03a\">\n",
              "    <div class=\"colab-df-container\">\n",
              "      <div>\n",
              "<style scoped>\n",
              "    .dataframe tbody tr th:only-of-type {\n",
              "        vertical-align: middle;\n",
              "    }\n",
              "\n",
              "    .dataframe tbody tr th {\n",
              "        vertical-align: top;\n",
              "    }\n",
              "\n",
              "    .dataframe thead tr th {\n",
              "        text-align: left;\n",
              "    }\n",
              "\n",
              "    .dataframe thead tr:last-of-type th {\n",
              "        text-align: right;\n",
              "    }\n",
              "</style>\n",
              "<table border=\"1\" class=\"dataframe\">\n",
              "  <thead>\n",
              "    <tr>\n",
              "      <th></th>\n",
              "      <th colspan=\"8\" halign=\"left\">salary_monthly_NETO</th>\n",
              "    </tr>\n",
              "    <tr>\n",
              "      <th></th>\n",
              "      <th>count</th>\n",
              "      <th>mean</th>\n",
              "      <th>std</th>\n",
              "      <th>min</th>\n",
              "      <th>25%</th>\n",
              "      <th>50%</th>\n",
              "      <th>75%</th>\n",
              "      <th>max</th>\n",
              "    </tr>\n",
              "    <tr>\n",
              "      <th>profile_g</th>\n",
              "      <th></th>\n",
              "      <th></th>\n",
              "      <th></th>\n",
              "      <th></th>\n",
              "      <th></th>\n",
              "      <th></th>\n",
              "      <th></th>\n",
              "      <th></th>\n",
              "    </tr>\n",
              "  </thead>\n",
              "  <tbody>\n",
              "    <tr>\n",
              "      <th>Diversidades</th>\n",
              "      <td>98.0</td>\n",
              "      <td>261873.543041</td>\n",
              "      <td>356719.368150</td>\n",
              "      <td>0.0</td>\n",
              "      <td>90500.0</td>\n",
              "      <td>174448.5</td>\n",
              "      <td>262250.0</td>\n",
              "      <td>1950000.0</td>\n",
              "    </tr>\n",
              "    <tr>\n",
              "      <th>Mujer cis</th>\n",
              "      <td>929.0</td>\n",
              "      <td>188903.430667</td>\n",
              "      <td>184912.713803</td>\n",
              "      <td>0.0</td>\n",
              "      <td>91000.0</td>\n",
              "      <td>160000.0</td>\n",
              "      <td>237003.0</td>\n",
              "      <td>1878500.0</td>\n",
              "    </tr>\n",
              "    <tr>\n",
              "      <th>Varón cis</th>\n",
              "      <td>4331.0</td>\n",
              "      <td>296252.343889</td>\n",
              "      <td>433193.328154</td>\n",
              "      <td>0.0</td>\n",
              "      <td>125000.0</td>\n",
              "      <td>212146.0</td>\n",
              "      <td>307988.0</td>\n",
              "      <td>15000000.0</td>\n",
              "    </tr>\n",
              "  </tbody>\n",
              "</table>\n",
              "</div>\n",
              "      <button class=\"colab-df-convert\" onclick=\"convertToInteractive('df-427dfd45-8b23-4fce-93d9-ce42aac2a03a')\"\n",
              "              title=\"Convert this dataframe to an interactive table.\"\n",
              "              style=\"display:none;\">\n",
              "        \n",
              "  <svg xmlns=\"http://www.w3.org/2000/svg\" height=\"24px\"viewBox=\"0 0 24 24\"\n",
              "       width=\"24px\">\n",
              "    <path d=\"M0 0h24v24H0V0z\" fill=\"none\"/>\n",
              "    <path d=\"M18.56 5.44l.94 2.06.94-2.06 2.06-.94-2.06-.94-.94-2.06-.94 2.06-2.06.94zm-11 1L8.5 8.5l.94-2.06 2.06-.94-2.06-.94L8.5 2.5l-.94 2.06-2.06.94zm10 10l.94 2.06.94-2.06 2.06-.94-2.06-.94-.94-2.06-.94 2.06-2.06.94z\"/><path d=\"M17.41 7.96l-1.37-1.37c-.4-.4-.92-.59-1.43-.59-.52 0-1.04.2-1.43.59L10.3 9.45l-7.72 7.72c-.78.78-.78 2.05 0 2.83L4 21.41c.39.39.9.59 1.41.59.51 0 1.02-.2 1.41-.59l7.78-7.78 2.81-2.81c.8-.78.8-2.07 0-2.86zM5.41 20L4 18.59l7.72-7.72 1.47 1.35L5.41 20z\"/>\n",
              "  </svg>\n",
              "      </button>\n",
              "      \n",
              "  <style>\n",
              "    .colab-df-container {\n",
              "      display:flex;\n",
              "      flex-wrap:wrap;\n",
              "      gap: 12px;\n",
              "    }\n",
              "\n",
              "    .colab-df-convert {\n",
              "      background-color: #E8F0FE;\n",
              "      border: none;\n",
              "      border-radius: 50%;\n",
              "      cursor: pointer;\n",
              "      display: none;\n",
              "      fill: #1967D2;\n",
              "      height: 32px;\n",
              "      padding: 0 0 0 0;\n",
              "      width: 32px;\n",
              "    }\n",
              "\n",
              "    .colab-df-convert:hover {\n",
              "      background-color: #E2EBFA;\n",
              "      box-shadow: 0px 1px 2px rgba(60, 64, 67, 0.3), 0px 1px 3px 1px rgba(60, 64, 67, 0.15);\n",
              "      fill: #174EA6;\n",
              "    }\n",
              "\n",
              "    [theme=dark] .colab-df-convert {\n",
              "      background-color: #3B4455;\n",
              "      fill: #D2E3FC;\n",
              "    }\n",
              "\n",
              "    [theme=dark] .colab-df-convert:hover {\n",
              "      background-color: #434B5C;\n",
              "      box-shadow: 0px 1px 3px 1px rgba(0, 0, 0, 0.15);\n",
              "      filter: drop-shadow(0px 1px 2px rgba(0, 0, 0, 0.3));\n",
              "      fill: #FFFFFF;\n",
              "    }\n",
              "  </style>\n",
              "\n",
              "      <script>\n",
              "        const buttonEl =\n",
              "          document.querySelector('#df-427dfd45-8b23-4fce-93d9-ce42aac2a03a button.colab-df-convert');\n",
              "        buttonEl.style.display =\n",
              "          google.colab.kernel.accessAllowed ? 'block' : 'none';\n",
              "\n",
              "        async function convertToInteractive(key) {\n",
              "          const element = document.querySelector('#df-427dfd45-8b23-4fce-93d9-ce42aac2a03a');\n",
              "          const dataTable =\n",
              "            await google.colab.kernel.invokeFunction('convertToInteractive',\n",
              "                                                     [key], {});\n",
              "          if (!dataTable) return;\n",
              "\n",
              "          const docLinkHtml = 'Like what you see? Visit the ' +\n",
              "            '<a target=\"_blank\" href=https://colab.research.google.com/notebooks/data_table.ipynb>data table notebook</a>'\n",
              "            + ' to learn more about interactive tables.';\n",
              "          element.innerHTML = '';\n",
              "          dataTable['output_type'] = 'display_data';\n",
              "          await google.colab.output.renderOutput(dataTable, element);\n",
              "          const docLink = document.createElement('div');\n",
              "          docLink.innerHTML = docLinkHtml;\n",
              "          element.appendChild(docLink);\n",
              "        }\n",
              "      </script>\n",
              "    </div>\n",
              "  </div>\n",
              "  "
            ]
          },
          "metadata": {},
          "execution_count": 8
        }
      ]
    },
    {
      "cell_type": "code",
      "metadata": {
        "colab": {
          "base_uri": "https://localhost:8080/",
          "height": 206
        },
        "id": "pycKJ5jWkShW",
        "outputId": "3b870bb9-e297-4f2a-8eba-159889f19474"
      },
      "source": [
        "df[df.salary_monthly_NETO > 1000]\\\n",
        "  [['profile_g', 'salary_monthly_NETO']].groupby('profile_g').describe()"
      ],
      "execution_count": 9,
      "outputs": [
        {
          "output_type": "execute_result",
          "data": {
            "text/plain": [
              "             salary_monthly_NETO                                        \\\n",
              "                           count           mean            std     min   \n",
              "profile_g                                                                \n",
              "Diversidades                85.0  301914.321765  367031.242344  2800.0   \n",
              "Mujer cis                  806.0  217708.858077  182050.554847  1400.0   \n",
              "Varón cis                 3975.0  322777.029197  442612.347688  1100.0   \n",
              "\n",
              "                                                         \n",
              "                   25%       50%        75%         max  \n",
              "profile_g                                                \n",
              "Diversidades  125000.0  190000.0  280000.00   1950000.0  \n",
              "Mujer cis     116000.0  180000.0  248193.75   1878500.0  \n",
              "Varón cis     147106.5  225000.0  322827.50  15000000.0  "
            ],
            "text/html": [
              "\n",
              "  <div id=\"df-7a7b30bf-8e7f-4ce6-962e-057ece7b6a7e\">\n",
              "    <div class=\"colab-df-container\">\n",
              "      <div>\n",
              "<style scoped>\n",
              "    .dataframe tbody tr th:only-of-type {\n",
              "        vertical-align: middle;\n",
              "    }\n",
              "\n",
              "    .dataframe tbody tr th {\n",
              "        vertical-align: top;\n",
              "    }\n",
              "\n",
              "    .dataframe thead tr th {\n",
              "        text-align: left;\n",
              "    }\n",
              "\n",
              "    .dataframe thead tr:last-of-type th {\n",
              "        text-align: right;\n",
              "    }\n",
              "</style>\n",
              "<table border=\"1\" class=\"dataframe\">\n",
              "  <thead>\n",
              "    <tr>\n",
              "      <th></th>\n",
              "      <th colspan=\"8\" halign=\"left\">salary_monthly_NETO</th>\n",
              "    </tr>\n",
              "    <tr>\n",
              "      <th></th>\n",
              "      <th>count</th>\n",
              "      <th>mean</th>\n",
              "      <th>std</th>\n",
              "      <th>min</th>\n",
              "      <th>25%</th>\n",
              "      <th>50%</th>\n",
              "      <th>75%</th>\n",
              "      <th>max</th>\n",
              "    </tr>\n",
              "    <tr>\n",
              "      <th>profile_g</th>\n",
              "      <th></th>\n",
              "      <th></th>\n",
              "      <th></th>\n",
              "      <th></th>\n",
              "      <th></th>\n",
              "      <th></th>\n",
              "      <th></th>\n",
              "      <th></th>\n",
              "    </tr>\n",
              "  </thead>\n",
              "  <tbody>\n",
              "    <tr>\n",
              "      <th>Diversidades</th>\n",
              "      <td>85.0</td>\n",
              "      <td>301914.321765</td>\n",
              "      <td>367031.242344</td>\n",
              "      <td>2800.0</td>\n",
              "      <td>125000.0</td>\n",
              "      <td>190000.0</td>\n",
              "      <td>280000.00</td>\n",
              "      <td>1950000.0</td>\n",
              "    </tr>\n",
              "    <tr>\n",
              "      <th>Mujer cis</th>\n",
              "      <td>806.0</td>\n",
              "      <td>217708.858077</td>\n",
              "      <td>182050.554847</td>\n",
              "      <td>1400.0</td>\n",
              "      <td>116000.0</td>\n",
              "      <td>180000.0</td>\n",
              "      <td>248193.75</td>\n",
              "      <td>1878500.0</td>\n",
              "    </tr>\n",
              "    <tr>\n",
              "      <th>Varón cis</th>\n",
              "      <td>3975.0</td>\n",
              "      <td>322777.029197</td>\n",
              "      <td>442612.347688</td>\n",
              "      <td>1100.0</td>\n",
              "      <td>147106.5</td>\n",
              "      <td>225000.0</td>\n",
              "      <td>322827.50</td>\n",
              "      <td>15000000.0</td>\n",
              "    </tr>\n",
              "  </tbody>\n",
              "</table>\n",
              "</div>\n",
              "      <button class=\"colab-df-convert\" onclick=\"convertToInteractive('df-7a7b30bf-8e7f-4ce6-962e-057ece7b6a7e')\"\n",
              "              title=\"Convert this dataframe to an interactive table.\"\n",
              "              style=\"display:none;\">\n",
              "        \n",
              "  <svg xmlns=\"http://www.w3.org/2000/svg\" height=\"24px\"viewBox=\"0 0 24 24\"\n",
              "       width=\"24px\">\n",
              "    <path d=\"M0 0h24v24H0V0z\" fill=\"none\"/>\n",
              "    <path d=\"M18.56 5.44l.94 2.06.94-2.06 2.06-.94-2.06-.94-.94-2.06-.94 2.06-2.06.94zm-11 1L8.5 8.5l.94-2.06 2.06-.94-2.06-.94L8.5 2.5l-.94 2.06-2.06.94zm10 10l.94 2.06.94-2.06 2.06-.94-2.06-.94-.94-2.06-.94 2.06-2.06.94z\"/><path d=\"M17.41 7.96l-1.37-1.37c-.4-.4-.92-.59-1.43-.59-.52 0-1.04.2-1.43.59L10.3 9.45l-7.72 7.72c-.78.78-.78 2.05 0 2.83L4 21.41c.39.39.9.59 1.41.59.51 0 1.02-.2 1.41-.59l7.78-7.78 2.81-2.81c.8-.78.8-2.07 0-2.86zM5.41 20L4 18.59l7.72-7.72 1.47 1.35L5.41 20z\"/>\n",
              "  </svg>\n",
              "      </button>\n",
              "      \n",
              "  <style>\n",
              "    .colab-df-container {\n",
              "      display:flex;\n",
              "      flex-wrap:wrap;\n",
              "      gap: 12px;\n",
              "    }\n",
              "\n",
              "    .colab-df-convert {\n",
              "      background-color: #E8F0FE;\n",
              "      border: none;\n",
              "      border-radius: 50%;\n",
              "      cursor: pointer;\n",
              "      display: none;\n",
              "      fill: #1967D2;\n",
              "      height: 32px;\n",
              "      padding: 0 0 0 0;\n",
              "      width: 32px;\n",
              "    }\n",
              "\n",
              "    .colab-df-convert:hover {\n",
              "      background-color: #E2EBFA;\n",
              "      box-shadow: 0px 1px 2px rgba(60, 64, 67, 0.3), 0px 1px 3px 1px rgba(60, 64, 67, 0.15);\n",
              "      fill: #174EA6;\n",
              "    }\n",
              "\n",
              "    [theme=dark] .colab-df-convert {\n",
              "      background-color: #3B4455;\n",
              "      fill: #D2E3FC;\n",
              "    }\n",
              "\n",
              "    [theme=dark] .colab-df-convert:hover {\n",
              "      background-color: #434B5C;\n",
              "      box-shadow: 0px 1px 3px 1px rgba(0, 0, 0, 0.15);\n",
              "      filter: drop-shadow(0px 1px 2px rgba(0, 0, 0, 0.3));\n",
              "      fill: #FFFFFF;\n",
              "    }\n",
              "  </style>\n",
              "\n",
              "      <script>\n",
              "        const buttonEl =\n",
              "          document.querySelector('#df-7a7b30bf-8e7f-4ce6-962e-057ece7b6a7e button.colab-df-convert');\n",
              "        buttonEl.style.display =\n",
              "          google.colab.kernel.accessAllowed ? 'block' : 'none';\n",
              "\n",
              "        async function convertToInteractive(key) {\n",
              "          const element = document.querySelector('#df-7a7b30bf-8e7f-4ce6-962e-057ece7b6a7e');\n",
              "          const dataTable =\n",
              "            await google.colab.kernel.invokeFunction('convertToInteractive',\n",
              "                                                     [key], {});\n",
              "          if (!dataTable) return;\n",
              "\n",
              "          const docLinkHtml = 'Like what you see? Visit the ' +\n",
              "            '<a target=\"_blank\" href=https://colab.research.google.com/notebooks/data_table.ipynb>data table notebook</a>'\n",
              "            + ' to learn more about interactive tables.';\n",
              "          element.innerHTML = '';\n",
              "          dataTable['output_type'] = 'display_data';\n",
              "          await google.colab.output.renderOutput(dataTable, element);\n",
              "          const docLink = document.createElement('div');\n",
              "          docLink.innerHTML = docLinkHtml;\n",
              "          element.appendChild(docLink);\n",
              "        }\n",
              "      </script>\n",
              "    </div>\n",
              "  </div>\n",
              "  "
            ]
          },
          "metadata": {},
          "execution_count": 9
        }
      ]
    },
    {
      "cell_type": "code",
      "metadata": {
        "id": "uZ1GxkLylHx0"
      },
      "source": [
        "alpha = 0.05"
      ],
      "execution_count": 10,
      "outputs": []
    },
    {
      "cell_type": "code",
      "metadata": {
        "id": "OfzFpDO-lYxk"
      },
      "source": [
        "is_man = df.profile_g == 'Varón cis'\n",
        "\n",
        "groupA = df[(df.salary_monthly_NETO > 1000) & is_man].salary_monthly_NETO\n",
        "groupB = df[(df.salary_monthly_NETO > 1000) & ~is_man].salary_monthly_NETO"
      ],
      "execution_count": 47,
      "outputs": []
    },
    {
      "cell_type": "markdown",
      "metadata": {
        "id": "co_0M_ojtmUh"
      },
      "source": [
        "## Ejercicio 1: Estimación\n",
        "\n",
        "**Consigna:**  Calcular una estimación puntual y un intervalo de confianza de nivel (1-alpha) para la resta entre la media del salario Neto para Hombres menos la media del salario Neto para otros géneros(diferencia de las medias entre el grupoA y grupoB). \n",
        "¿Cómo se relaciona este intervalo de confianza con el test de hipótesis?"
      ]
    },
    {
      "cell_type": "markdown",
      "source": [
        "Para llevar adelante la estimación puntual recurrimos a un estadístico, como es la media muestral ($\\bar{X}$), ya que estamos trabajando con una muestra. Esto lo hacemos para estimar el parámetro $\\mu_i$, donde $i=A,B$. El grupo A es el de los hombres, y el B el de los que no son hombres.\n",
        "\n",
        "Al hacer la estimacion puntual obtenemos $\\bar{X}$ tanto del grupo A como del B. Luego sigue hacer la diferencia entre las medias. Al hacer esto vemos que **los hombres ganan más** en promedio que aquellos que no son hombres. Específicamente, en promedio los hombres ganan $97.035 más. Esto es simplemente una estimación que surge de la muestra, y no estamos considerando el error de estimación que puede haber."
      ],
      "metadata": {
        "id": "3Di9mK_fYmPR"
      }
    },
    {
      "cell_type": "code",
      "metadata": {
        "id": "0fA1RQ0upe6N",
        "colab": {
          "base_uri": "https://localhost:8080/"
        },
        "outputId": "5b60168b-2fe0-489d-98f4-d2bd39d3c1ec"
      },
      "source": [
        "mean_dif = groupA.mean() - groupB.mean()\n",
        "mean_dif"
      ],
      "execution_count": 12,
      "outputs": [
        {
          "output_type": "execute_result",
          "data": {
            "text/plain": [
              "97035.10219411727"
            ]
          },
          "metadata": {},
          "execution_count": 12
        }
      ]
    },
    {
      "cell_type": "markdown",
      "source": [
        "Ahora queremos incluir un intervalo de confianza. Como el nivel de significación es del 5\\%, estamos buscando un intervalos de valores que incluya al verdadero valor del parámetro (la diferencia de medias, $\\mu_A - \\mu_B$) con un 95% de confianza. Al tratarse de una diferencia de medias, nuestra primera aproximación es usar el pivote asociado al test t-Student convencional, pero el mismo es válido sólo cuando las varianzas y los tamaños de muestra ($n$) son iguales, por lo que primero chequeamos eso:"
      ],
      "metadata": {
        "id": "XlLbCgEOY-B9"
      }
    },
    {
      "cell_type": "code",
      "source": [
        "import scipy\n",
        "\n",
        "n_A = len(groupA)\n",
        "n_B = len(groupB)\n",
        "mean_A = groupA.mean()\n",
        "mean_B = groupB.mean()\n",
        "std_A = groupA.std()\n",
        "std_B = groupB.std()\n",
        "\n",
        "from tabulate import tabulate\n",
        "datos = [['Grupo A', mean_A, std_A**2, n_A], ['Grupo B', mean_B, std_B**2, n_B]]\n",
        "print (tabulate(datos, headers=[\"Muestra\", \"Media\", \"Varianza\", \"n\"]))\n",
        "\n"
      ],
      "metadata": {
        "colab": {
          "base_uri": "https://localhost:8080/"
        },
        "id": "D56yquzFZBri",
        "outputId": "d4724028-332c-469d-ab29-b1b1a9c9f265"
      },
      "execution_count": 13,
      "outputs": [
        {
          "output_type": "stream",
          "name": "stdout",
          "text": [
            "Muestra      Media     Varianza     n\n",
            "---------  -------  -----------  ----\n",
            "Grupo A     322777  1.95906e+11  3975\n",
            "Grupo B     225742  4.33041e+10   891\n"
          ]
        }
      ]
    },
    {
      "cell_type": "markdown",
      "source": [
        "Como se puede observar, las varianzas son muy distintas (al igual que los tamaños de las muestras). Por ende tenemos dos alternativas. Una es obtener dos muestras aleatorias de los datos que tengan el mismo tamaño y la misma varianza, para poder aplicar el pivote t de Student clásico para diferenica de medias. Pero esto implicaría forzar demasiado los datos, aunque hacemos el intento. Como se ve a continuación, las varianzas siguen siendo muy diferentes entre sí, por lo que sigue sin poder emplearse el pivote t de Student tradicional."
      ],
      "metadata": {
        "id": "uUnz8sWgta0p"
      }
    },
    {
      "cell_type": "code",
      "source": [
        "muestra_A = groupA.sample(500, replace=False)\n",
        "muestra_B = groupB.sample(500, replace=False)\n",
        "\n",
        "n_muestra_A = len(muestra_A)\n",
        "n_muestra_B = len(muestra_B)\n",
        "mean_muestra_A = muestra_A.mean()\n",
        "mean_muestra_B = muestra_B.mean()\n",
        "std_muestra_A = muestra_A.std()\n",
        "std_muestra_B = muestra_B.std()\n",
        "\n",
        "from tabulate import tabulate\n",
        "datos = [['Muestra Grupo A', mean_muestra_A, std_muestra_A**2, n_muestra_A], ['Muestra Grupo B', mean_muestra_B, std_muestra_B**2, n_muestra_B]]\n",
        "print (tabulate(datos, headers=[\"Muestra\", \"Media\", \"Varianza\", \"n\"]))\n"
      ],
      "metadata": {
        "colab": {
          "base_uri": "https://localhost:8080/"
        },
        "id": "Ax1rQgY-GIDl",
        "outputId": "f2354a74-877b-4d0a-95f5-ffe182b0dfb4"
      },
      "execution_count": 14,
      "outputs": [
        {
          "output_type": "stream",
          "name": "stdout",
          "text": [
            "Muestra            Media     Varianza    n\n",
            "---------------  -------  -----------  ---\n",
            "Muestra Grupo A   317467  1.05339e+11  500\n",
            "Muestra Grupo B   222031  4.18392e+10  500\n"
          ]
        }
      ]
    },
    {
      "cell_type": "markdown",
      "source": [
        " Cuando las varianzas y los tamaños de las muestras son diferentes lo correcto es utilizar el test de Welch, y de ahí sacamos el pivote a aplicar.\n",
        "\n",
        "$IC = (\\bar{X}_1 - \\bar{X}_2) \\pm t_{a/2} \\sqrt{\\frac{s_1^2}{n_1}+\\frac{s_2^2}{n_2}}$\n",
        "\n",
        "Donde $t_{a/2}$ es el t crítico de Welch. Para conocerlo debemos obtener primero los grados de libertad, que surgen de la siguiente fórmula (ecuación Welch-Sattertwaite):\n",
        "\n",
        "$df = \\frac{(s_1^2/n_1+s_2^2/n_2)2}{(s_1^2/n_1)^2/(n_1-1)+(s_2^2/n_2)^2/(n_2-1)}$"
      ],
      "metadata": {
        "id": "JABvfj7fI4v1"
      }
    },
    {
      "cell_type": "code",
      "source": [
        "\n",
        "\n",
        "std2_A = std_A**2\n",
        "std2_B = std_B**2\n",
        "d_f_num = std2_A/n_A + std2_B/n_B\n",
        "d_f_num = d_f_num**2\n",
        "d_f = d_f_num / ((std2_A/n_A)**2/(n_A-1) + (std2_B/n_B)**2/(n_B-1))\n",
        "print(d_f)\n",
        "\n"
      ],
      "metadata": {
        "id": "wTC7f40LtPGY",
        "colab": {
          "base_uri": "https://localhost:8080/"
        },
        "outputId": "405fe3d8-523b-4779-83ee-7a4b266557bc"
      },
      "execution_count": 15,
      "outputs": [
        {
          "output_type": "stream",
          "name": "stdout",
          "text": [
            "2934.414828228228\n"
          ]
        }
      ]
    },
    {
      "cell_type": "markdown",
      "source": [
        "Los grados de libertad son 2934. Viendo la tabla de valores críticos para un 95% de confianza y dos colas se obtiene que para unos grados de libertad tan elevados el t crítico tiende a 1,96. Eso ya nos permite calcular el intervalo de confianza."
      ],
      "metadata": {
        "id": "NxG9zYlMNz0H"
      }
    },
    {
      "cell_type": "code",
      "source": [
        "from math import sqrt\n",
        "\n",
        "t_095 = 1.96\n",
        "low = (mean_A - mean_B) - sqrt(std2_A/n_A + std2_B/n_B)*t_095\n",
        "upp = (mean_A - mean_B) + sqrt(std2_A/n_A + std2_B/n_B)*t_095\n",
        "\n",
        "print('Pr(', low, '<','mu_1 - mu_2','<', upp,') = 0,95')\n"
      ],
      "metadata": {
        "colab": {
          "base_uri": "https://localhost:8080/"
        },
        "id": "AcC-oVU9OuZZ",
        "outputId": "c5100059-4b19-42a4-ab63-68a251d63947"
      },
      "execution_count": 16,
      "outputs": [
        {
          "output_type": "stream",
          "name": "stdout",
          "text": [
            "Pr( 77643.36878721412 < mu_1 - mu_2 < 116426.83560102042 ) = 0,95\n"
          ]
        }
      ]
    },
    {
      "cell_type": "markdown",
      "source": [
        "Esto quiere decir que con 95% de confianza podemos decir que la diferencia salarial entre hombres y los que no se perciben como hombres está entre \\$77.643,37 y $116.426,84.\n",
        "\n",
        "La relación entre el intervalo de confianza y el test de hipótesis es clara. El cálculo de un intervalo de confianza puede basarse en los mismos datos que se utilizan para realizar un test de hipótesis. En el test de hipótesis se contrasta un valor observado con uno (prueba de una cola) o dos (prueba de dos colas) valores críticos. El estadístico usado para obtener el valor observado se puede usar para crear los intervalos de confianza, junto con el valor tabulado de la distribución correspondiente, necesario para calcular el valor crítico en el test de hipótesis. "
      ],
      "metadata": {
        "id": "Znci7AUzPigI"
      }
    },
    {
      "cell_type": "markdown",
      "metadata": {
        "id": "IFi2T7Y6nM92"
      },
      "source": [
        "## Ejercicio 2: Test de hipótesis\n"
      ]
    },
    {
      "cell_type": "markdown",
      "metadata": {
        "id": "Rzxe8UYU6EfJ"
      },
      "source": [
        "\n",
        "### 2.1 Formalización\n",
        "\n",
        "Describir formalmente los distintos componentes de un test de hipótesis para comprobar si la distribución de los salarios es distinta entre los grupos A y B.\n",
        "\n",
        "**Hipótesis Nula ($H_0$) y Alternativa ($H_1$)**\n",
        "\n",
        "$H_0: \\mu_1 - \\mu_2 = 0 \\\\ H_1: \\mu_1 - \\mu_2 \\neq 0$\n",
        "\n",
        "Lo que se está planteando acá es que la hipótesis nula es que la diferencia entre el salario promedio de los hombres programadores y el de los que no son hombres no es significativa, mientras que la hipótesis alternativa es que sí hay una diferencia estadísticamente significativa entre ambos salarios promedios.\n",
        "\n",
        "**Estadístico (Pivote)**\n",
        "  * Identificar el estadístico\n",
        "\n",
        "El estadístico a utilizar es el del test t de Welch:\n",
        "\n",
        "$t = \\frac{\\bar{X}_1-\\bar{X}_2}{\\sqrt{\\frac{s_1^2}{n_1}+\\frac{s_2^2}{n_2}}}$\n",
        "\n",
        "  * Escribir qué distribución tiene bajo $H_0$\n",
        "\n",
        "Bajo hipótesis nula el estadístico de Welch tiene distribución $t$ con grados de libertad dados por la siguiente fórmula (ecuación Welch-Sattertwaite):\n",
        "\n",
        "$df = \\frac{(s_1^2/n_1+s_2^2/n_2)2}{(s_1^2/n_1)^2/(n_1-1)+(s_2^2/n_2)^2/(n_2-1)}$\n"
      ]
    },
    {
      "cell_type": "markdown",
      "metadata": {
        "id": "3Ip_5YdenC8u"
      },
      "source": [
        "### 2.2 P-valor\n",
        "\n",
        "1. Calcule el p-valor y decida si rechazar o no la hipótesis nula.\n",
        "2. Interprete el resultado.\n",
        "\n",
        "Links útiles:\n",
        "* [Test de hipótesis usando scipy](https://docs.scipy.org/doc/scipy/reference/generated/scipy.stats.ttest_ind.html)\n",
        "* [Test de Welch](http://daniellakens.blogspot.com/2015/01/always-use-welchs-t-test-instead-of.html)"
      ]
    },
    {
      "cell_type": "code",
      "source": [
        "welch_t = (mean_A - mean_B)/(((std_A**2/n_A)+(std_B**2/n_B))**(1/2))\n",
        "print(welch_t)\n",
        "\n",
        "t_test = scipy.stats.ttest_ind(groupA, groupB, equal_var=False)\n",
        "t_test"
      ],
      "metadata": {
        "colab": {
          "base_uri": "https://localhost:8080/"
        },
        "id": "YBR_cODQmwGQ",
        "outputId": "c0677ad7-7803-43e4-8f30-1e984166b9d8"
      },
      "execution_count": 17,
      "outputs": [
        {
          "output_type": "stream",
          "name": "stdout",
          "text": [
            "9.807725607075726\n"
          ]
        },
        {
          "output_type": "execute_result",
          "data": {
            "text/plain": [
              "Ttest_indResult(statistic=9.807725607075726, pvalue=2.2923222141073007e-22)"
            ]
          },
          "metadata": {},
          "execution_count": 17
        }
      ]
    },
    {
      "cell_type": "markdown",
      "source": [
        "El p-value es 2,2923e-22, es decir, prácticamente 0. Esto quiere decir que se rechaza fuertemente la hipótesis nula de que la diferencia entre los salarios promedios es nula. Podemos afirmar que la diferencia entre los salarios promedios es muy significativa estadísticamente (a favor de los hombres, por lo que surge de hacer la diferencia en la estimación puntual). También se podría haber comparado el valor observado (9,8) con el valor crítico (1,96). Como 9,8 es mayor a 1,96, se cae en la zona de rechazo, y se rechaza la hipótesis nula."
      ],
      "metadata": {
        "id": "XG83MyfRbFPJ"
      }
    },
    {
      "cell_type": "markdown",
      "metadata": {
        "id": "8VxiQr5YrQYR"
      },
      "source": [
        "### [Opcional] 2.3 Potencia del test\n",
        "\n",
        "Nuestra muestra, ¿era lo suficientemente grande para detectar si existe o no una diferencia entre los grupos?\n",
        "\n",
        "1. Utilice la función `tt_ind_solve_power` para calcular el tamaño necesario de la muestra para un poder estadístico de 0.8, 0.9 y 0.95, asumiendo una significancia estadística de 0.05.\n",
        "2. ¿Cómo intepretan el poder estadístico de un test? Dado su conocimiento de dominio sobre los datos, ¿les parece que esta muestra es lo suficientemente grande para ser representativo de la tendencia general? ¿y para utilizarlo en un juicio penal contra una empresa XX por una causa de discriminación?\n",
        "\n",
        "[Documentación](https://www.statsmodels.org/stable/generated/statsmodels.stats.power.tt_ind_solve_power.html)\n",
        "\n",
        "NOTA: este análisis debería hacerse ANTES de recolectar los datos."
      ]
    },
    {
      "cell_type": "code",
      "metadata": {
        "id": "_IiqGfo4t6Db"
      },
      "source": [
        "from statsmodels.stats.power import tt_ind_solve_power"
      ],
      "execution_count": 18,
      "outputs": []
    },
    {
      "cell_type": "code",
      "metadata": {
        "id": "LUQ7MA2Apj9x"
      },
      "source": [
        "effect_size = (groupA.mean() - groupB.mean()) / groupB.std()\n",
        "# nobs1=None  - What we want to know\n",
        "alpha = 0.05\n",
        "ratio = len(groupB) / len(groupA)\n",
        "#power= 0.8\n",
        "power = [0.8, 0.9, 0.95, 0.99]"
      ],
      "execution_count": 21,
      "outputs": []
    },
    {
      "cell_type": "code",
      "metadata": {
        "colab": {
          "base_uri": "https://localhost:8080/"
        },
        "id": "cvHcpY-3ty8Q",
        "outputId": "df33a3d6-1dd1-45ef-8a86-6fb426efff5a"
      },
      "source": [
        "#tt_ind_solve_power(effect_size=effect_size, alpha=alpha,power=power,  ratio=ratio)\n",
        "for pwr in power:\n",
        "  tmp = tt_ind_solve_power(effect_size=effect_size, alpha=alpha, power=pwr,  ratio=ratio)\n",
        "  print('power', pwr, ', n = ',tmp)"
      ],
      "execution_count": 22,
      "outputs": [
        {
          "output_type": "stream",
          "name": "stdout",
          "text": [
            "power 0.8 , n =  198.72009534639577\n",
            "power 0.9 , n =  265.49239170136235\n",
            "power 0.95 , n =  327.9639162815211\n",
            "power 0.99 , n =  463.03459078104123\n"
          ]
        }
      ]
    },
    {
      "cell_type": "markdown",
      "source": [
        "Estos resultados indican que nuestro tamaño de muestra era más que suficiente, ya que contábamos con casi 900 observaciones de 'no hombres' y casi 4000 de hombres. Un poder estadístico de 99% ya se alcanzaba con 463 observaciones, por lo que sí se trata de un tamaño muestral representativo de la tendencia general, y candidato a ser empleado en un juicio por discriminación (dado que ya comprobamos que los hombres ganan significativamente más que el resto)."
      ],
      "metadata": {
        "id": "lUUnziMGbqcb"
      }
    },
    {
      "cell_type": "markdown",
      "metadata": {
        "id": "useKMdPyMod5"
      },
      "source": [
        "## Ejercicio 3: Comunicación y visualización\n",
        "\n",
        "**Consigna:** Seleccionen un resultado que les parezca relevante a partir de alguno de los ejercicios del entregable. Diseñe e implemente una comunicación en base a este mensaje, en un archivo PDF.\n",
        "\n",
        "Elija las palabras y visualización más adecuada para que la comunicación sea entendible, efectiva y se dapte a UNA de las siguientes situaciones:\n",
        "\n",
        "1. Una sección en un artículo de difusión a presentar como parte de una organización sin fines de lucro.\n",
        "No más de 1 página A4 (o dos si los gráficos son muy grandes).\n",
        "  1. Ejemplo: Alguna de las secciones [Los ecosistemas de emprendimiento de América Latina y el Caribe frente al COVID-19: Impactos, necesidades y recomendaciones](https://publications.iadb.org/es/los-ecosistemas-de-emprendimiento-de-america-latina-y-el-caribe-frente-al-covid-19-impactos-necesidades-y-recomendaciones), por ejemplo la sección *2.2. Reacciones de los emprendedores*.\n",
        "  2. Ejemplo: Alguna de las secciones de [The state of gender pay gap in 2021](https://www.payscale.com/data/gender-pay-gap?tk=carousel-ps-rc-job)\n",
        "  3. Puntos clave: \n",
        "    1. Simpleza de los gráficos.\n",
        "    2. Comunicación en lenguaje simple a personas que no son necesariamente expertos de dominio.\n",
        "    2. Selección de UNA oración sobre la que se hace énfasis.\n",
        "    3. No es necesario que mencionen objetivos ni descripciones del conjunto de datos, se supone que eso ya estaría explicado en otras secciones del informe.\n",
        "\n",
        "2. Una publicación científica o reporte técnico interno. No más de una página A4:\n",
        "  2. Ejemplo: La sección de resultados de [IZA DP No. 12914: The Impact of a Minimum Wage Change on the Distribution of Wages and Household Income](https://www.iza.org/publications/dp/12914/the-impact-of-a-minimum-wage-change-on-the-distribution-of-wages-and-household-income).\n",
        "  2. Ejemplo: Alguna de las secciones de [Temporary reduction in daily global CO2 emissions during the COVID-19 forced confinement](https://www.nature.com/articles/s41558-020-0797-x)\n",
        "  3. Puntos clave:\n",
        "    3. Nivel de detalle técnico requerido. Es necesario justificar la validez del análisis.\n",
        "    4. La idea presentada puede ser más compleja. Pueden asumir que la audiencia tiene conocimiento técnico y va a analizar las visualizaciones en detalle. \n",
        "    5. Pueden presentar más en detalle las limitaciones del análisis (significancia estadística, etc.)\n",
        "    2. No es necesario que mencionen objetivos ni descripciones del conjunto de datos, se supone que eso ya estaría explicado en otras secciones del informe.\n",
        "\n",
        "3. Un tweet (o post de LinkedIn) para la cuenta de su empresa consultora que hace análisis de datos. El objetivo es promocionar un análisis de datos abiertos que van a incluir en su portfolio:\n",
        "  1. Ejemplo: [Comparación vacunas covid](https://twitter.com/infobeautiful/status/1381577746527236098?s=20)\n",
        "  2. Ejemplo: [Tweet del BID](https://twitter.com/el_BID/status/1388508583944507396?s=20). Lo valioso de este tweet es que usaron un único número para transmitir un mensaje. Puede ser algo así, o con un gráfico muy simple.\n",
        "  3. Ejemplo: [Cambio climático](https://twitter.com/UNFCCC/status/1387732156190011394?s=20) Es un muy buen ejemplo, excepto que el gráfico no se lee nada y hay que entrar a la publicación original.\n",
        "  3. Ejemplo: [¿Cuánto están los programadores en las empresas?](https://www.linkedin.com/posts/denis-rothman-0b034043_tech-career-work-activity-6793861923269054464-gS6y) (No verificamos la veracidad o seriedad de la fuente).\n",
        "  4. Puntos clave:\n",
        "    1. Su audiencia no va a mirar la visualización por más de unos segundos, y no tiene conocimiento técnico.\n",
        "  3. Tienen que incluir además una *breve* descripción de cómo obtuvieron los datos que están presentando, que no entraría en el tweet.\n"
      ]
    },
    {
      "cell_type": "markdown",
      "source": [
        "Decidimos presentar la información en formato de post de LinkedIn:\n",
        "\n",
        "# Discriminación de género en el mercado laboral de los programadores ❓\n",
        "## ¿Qué nos dicen los datos? 📊\n",
        "\n",
        "🚀 La industria del software crea empleo de calidad en nuestro país, y crece a pasos agigantados.\n",
        "\n",
        "🤔 Pero qué sucede dentro de la misma? Desde **Consultatio9000** analizamos los resultados de la encuesta de **Sysarmy de 2022**. Los datos indican que aproximadamente el **78%** de los programdores contratados son hombres, por lo que desde el comienzo puede que exista discriminación en la contratación. Aunque también sabemos que la mayoría de los estudiantes en carreras *STEM* son hombres de por sí.\n",
        "\n",
        "💸 El problema es que en promedio, los hombres ganan mucho más que las mujeres, como se ve en el gráfico siguiente. El salario mediano neto de los hombres es de **\\$220.000** por mes, contra sólo **$180.000** de todos aquellos que no se perciben como hombres. Si tomamos el promedio el problema es mayor, porque hay muchos hombres con salarios exorbitantes 🤯. En ese caso los hombres perciben **\\$250.507**, contra **\\$204.687** de las/los que no son hombres.\n",
        "\n",
        "💻 Como industria, debemos trabajar juntos para cerrar esta brecha y garantizar la igualdad de oportunidades y remuneración para todos. 💪 **#IgualdadSalarial** **#Programacion**\n",
        "\n",
        "Para más información entrá a *www.consultatio9000.com.ar* 👈\n",
        "\n",
        "\n",
        "\n"
      ],
      "metadata": {
        "id": "-GZkAUNUZktX"
      }
    },
    {
      "cell_type": "code",
      "metadata": {
        "id": "twwYHUztt45L",
        "colab": {
          "base_uri": "https://localhost:8080/",
          "height": 568
        },
        "outputId": "ed66dfcd-f305-4dc1-f72c-baf73d288701"
      },
      "source": [
        "from matplotlib.ticker import FuncFormatter\n",
        "\n",
        "df.loc[:,'Género'] = df.profile_g.replace({'Mujer cis': 'Otros','Diversidades': 'Otros'}).fillna(False)\n",
        "\n",
        "plt.figure(figsize=(12, 6))\n",
        "plot = seaborn.boxplot(data=df[df['salary_monthly_NETO']<750000], x='salary_monthly_NETO', y='Género',notch=True,medianprops={\"color\": \"coral\"},\n",
        "                showcaps=True, flierprops={\"marker\": \"x\"},boxprops={\"facecolor\": (.2, .3, .4, .5)})\n",
        "plt.ticklabel_format(style='plain', axis='x')\n",
        "plt.xlabel('Salario neto mensual')\n",
        "matplotlib.rcParams['font.sans-serif'] = \"Liberation Sans Narrow\"\n",
        "def currency_formatter(x, _):\n",
        "    if x == 0:\n",
        "        return 0\n",
        "    elif x == 1000000:\n",
        "        return '1 M'\n",
        "    else:\n",
        "        return f\"{int(x/1000)} K\"\n",
        "plot.xaxis.set_major_formatter(FuncFormatter(currency_formatter))"
      ],
      "execution_count": 93,
      "outputs": [
        {
          "output_type": "display_data",
          "data": {
            "text/plain": [
              "<Figure size 1200x600 with 1 Axes>"
            ],
            "image/png": "[encoded data removed]"
          },
          "metadata": {}
        }
      ]
    },
    {
      "cell_type": "code",
      "source": [
        "# Datos de salario promedio y mediano\n",
        "\n",
        "df[(df.salary_monthly_NETO > 1000) & (is_man) & (df.salary_monthly_NETO < 1000000)]['salary_monthly_NETO'].describe()\n",
        "# 250.507\n",
        "df[(df.salary_monthly_NETO > 1000) & (~is_man) & (df.salary_monthly_NETO < 1000000)]['salary_monthly_NETO'].describe()\n",
        "# 204.687 "
      ],
      "metadata": {
        "colab": {
          "base_uri": "https://localhost:8080/"
        },
        "id": "SA1ecwnrwPyh",
        "outputId": "dfc92b1b-3184-4b40-b4c5-d8c430500edc"
      },
      "execution_count": 88,
      "outputs": [
        {
          "output_type": "execute_result",
          "data": {
            "text/plain": [
              "count       874.000000\n",
              "mean     204687.136110\n",
              "std      138804.093353\n",
              "min        1400.000000\n",
              "25%      115700.000000\n",
              "50%      180000.000000\n",
              "75%      247408.250000\n",
              "max      985887.000000\n",
              "Name: salary_monthly_NETO, dtype: float64"
            ]
          },
          "metadata": {},
          "execution_count": 88
        }
      ]
    }
  ]
}